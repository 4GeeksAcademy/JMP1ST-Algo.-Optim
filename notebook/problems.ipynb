{
 "cells": [
  {
   "attachments": {},
   "cell_type": "markdown",
   "id": "27b09e13",
   "metadata": {},
   "source": [
    "# Optimization of Algorithms problems"
   ]
  },
  {
   "attachments": {},
   "cell_type": "markdown",
   "id": "ed05e9bf",
   "metadata": {},
   "source": [
    "## Exercise 1\n",
    "### Code Optimization for Text Processing\n",
    "\n",
    "You are provided with a text processing code to perform the following operations:\n",
    "\n",
    "1. Convert all text to lowercase.\n",
    "2. Remove punctuation marks.\n",
    "3. Count the frequency of each word.\n",
    "4. Show the 5 most common words.\n",
    "\n",
    "The code works, but it is inefficient and can be optimized. Your task is to identify areas that can be improved and rewrite those parts to make the code more efficient and readable."
   ]
  },
  {
   "cell_type": "code",
   "execution_count": 13,
   "id": "8467465b",
   "metadata": {},
   "outputs": [
    {
     "name": "stdout",
     "output_type": "stream",
     "text": [
      "'the': 5 times\n",
      "'of': 3 times\n",
      "'in': 2 times\n",
      "'a': 2 times\n",
      "'she': 2 times\n"
     ]
    }
   ],
   "source": [
    "import string\n",
    "\n",
    "def process_text(text):\n",
    "    # Text to lowercase\n",
    "    text = text.lower()\n",
    "\n",
    "    # Remove punctuation\n",
    "    for p in string.punctuation:\n",
    "        text = text.replace(p, \"\")\n",
    "\n",
    "    # Split text into words\n",
    "    words = text.split()\n",
    "\n",
    "    # Count frecuencies\n",
    "    frequencies = {}\n",
    "    for w in words:\n",
    "        if w in frequencies:\n",
    "            frequencies[w] += 1\n",
    "        else:\n",
    "            frequencies[w] = 1\n",
    "\n",
    "    sorted_frequencies = sorted(frequencies.items(), key = lambda x: x[1], reverse = True)\n",
    "\n",
    "    # Get 5 most-common words\n",
    "    top_5 = sorted_frequencies[:5]\n",
    "    \n",
    "    for w, frequency in top_5:\n",
    "        print(f\"'{w}': {frequency} times\")\n",
    "\n",
    "text = \"\"\"\n",
    "    In the heart of the city, Emily discovered a quaint little café, hidden away from the bustling streets. \n",
    "    The aroma of freshly baked pastries wafted through the air, drawing in passersby. As she sipped on her latte, \n",
    "    she noticed an old bookshelf filled with classics, creating a cozy atmosphere that made her lose track of time.\n",
    "\"\"\"\n",
    "process_text(text)"
   ]
  },
  {
   "cell_type": "markdown",
   "id": "29040779",
   "metadata": {},
   "source": [
    "Points to optimize:\n",
    "\n",
    "1. **Removal of punctuation marks**: Using `replace` in a loop can be inefficient, especially with long texts. Look for a more efficient way to remove punctuation marks.\n",
    "2. **Frequency count**: The code checks for the existence of each word in the dictionary and then updates its count. This can be done more efficiently with certain data structures in Python.\n",
    "3. **Sort and select:** Consider if there is a more direct or efficient way to get the 5 most frequent words without sorting all the words.\n",
    "4. **Modularity**: Break the code into smaller functions so that each one performs a specific task. This will not only optimize performance, but also make the code more readable and maintainable."
   ]
  },
  {
   "cell_type": "code",
   "execution_count": 14,
   "id": "b2ac5c3c",
   "metadata": {},
   "outputs": [
    {
     "name": "stdout",
     "output_type": "stream",
     "text": [
      "Task 1:\n",
      "\n",
      "    In the heart of the city Emily discovered a quaint little café hidden away from the bustling streets \n",
      "    The aroma of freshly baked pastries wafted through the air drawing in passersby As she sipped on her latte \n",
      "    she noticed an old bookshelf filled with classics creating a cozy atmosphere that made her lose track of time\n",
      "\n"
     ]
    }
   ],
   "source": [
    "from collections import Counter\n",
    "\n",
    "#Task1: Removal of punct marks. \n",
    "def cleaned_text(text):\n",
    "    #Variable to store the cleaned text and cleaning the text\n",
    "    no_punctuation = text.translate(str.maketrans('','', string.punctuation))\n",
    "    #Returning the cleaned variable \n",
    "    return no_punctuation\n",
    "\n",
    "clean_text = cleaned_text(text)\n",
    "print(F\"Task 1:\\n{clean_text}\")"
   ]
  },
  {
   "cell_type": "code",
   "execution_count": 15,
   "id": "b3583565",
   "metadata": {},
   "outputs": [
    {
     "name": "stdout",
     "output_type": "stream",
     "text": [
      "Task 2:\n",
      "Counter({'the': 4, 'of': 3, 'a': 2, 'she': 2, 'her': 2, 'In': 1, 'heart': 1, 'city,': 1, 'Emily': 1, 'discovered': 1, 'quaint': 1, 'little': 1, 'café,': 1, 'hidden': 1, 'away': 1, 'from': 1, 'bustling': 1, 'streets.': 1, 'The': 1, 'aroma': 1, 'freshly': 1, 'baked': 1, 'pastries': 1, 'wafted': 1, 'through': 1, 'air,': 1, 'drawing': 1, 'in': 1, 'passersby.': 1, 'As': 1, 'sipped': 1, 'on': 1, 'latte,': 1, 'noticed': 1, 'an': 1, 'old': 1, 'bookshelf': 1, 'filled': 1, 'with': 1, 'classics,': 1, 'creating': 1, 'cozy': 1, 'atmosphere': 1, 'that': 1, 'made': 1, 'lose': 1, 'track': 1, 'time.': 1})\n",
      "\n"
     ]
    }
   ],
   "source": [
    "#Task2: Frequency count\n",
    "def frequency_counter(text):\n",
    "    #Variable to store the the splitted text\n",
    "    words = text.split()\n",
    "    #Return the count of the splitted text (words)\n",
    "    return Counter(words)\n",
    "\n",
    "words_count = frequency_counter(text)\n",
    "print(F\"Task 2:\\n{words_count}\\n\")\n"
   ]
  },
  {
   "cell_type": "code",
   "execution_count": 16,
   "id": "57cd6641",
   "metadata": {},
   "outputs": [
    {
     "name": "stdout",
     "output_type": "stream",
     "text": [
      "the: 5\n",
      "of: 3\n",
      "in: 2\n",
      "a: 2\n",
      "she: 2\n"
     ]
    }
   ],
   "source": [
    "#Task3: Sorting and selecting\n",
    "def sorting_and_selecting(text):\n",
    "    #Normalize text (lowercase and remove punctuation) \n",
    "    text = text.lower().translate(str.maketrans('', '', string.punctuation))\n",
    "    #Use of previous logic to split the text\n",
    "    words = text.split()\n",
    "    #Counting the splitted text and storing it in a variable\n",
    "    frequency = Counter(words)\n",
    "    #Finding the most common using defined method and storing inside variable \n",
    "    common_words = frequency.most_common()\n",
    "    return common_words\n",
    "\n",
    "most_common_words = sorting_and_selecting(text)\n",
    "#printing the 5 most common word using slicing\n",
    "for word, count in most_common_words[:5]:\n",
    "    print(f\"{word}: {count}\")\n",
    "\n"
   ]
  },
  {
   "cell_type": "code",
   "execution_count": 17,
   "id": "580e4dd9",
   "metadata": {},
   "outputs": [
    {
     "name": "stdout",
     "output_type": "stream",
     "text": [
      "Task 1:\n",
      "\n",
      "    In the heart of the city Emily discovered a quaint little café hidden away from the bustling streets \n",
      "    The aroma of freshly baked pastries wafted through the air drawing in passersby As she sipped on her latte \n",
      "    she noticed an old bookshelf filled with classics creating a cozy atmosphere that made her lose track of time\n",
      "\n",
      "\n",
      "Task 2: Word frequencies\n",
      "Counter({'the': 4, 'of': 3, 'a': 2, 'she': 2, 'her': 2, 'In': 1, 'heart': 1, 'city': 1, 'Emily': 1, 'discovered': 1, 'quaint': 1, 'little': 1, 'café': 1, 'hidden': 1, 'away': 1, 'from': 1, 'bustling': 1, 'streets': 1, 'The': 1, 'aroma': 1, 'freshly': 1, 'baked': 1, 'pastries': 1, 'wafted': 1, 'through': 1, 'air': 1, 'drawing': 1, 'in': 1, 'passersby': 1, 'As': 1, 'sipped': 1, 'on': 1, 'latte': 1, 'noticed': 1, 'an': 1, 'old': 1, 'bookshelf': 1, 'filled': 1, 'with': 1, 'classics': 1, 'creating': 1, 'cozy': 1, 'atmosphere': 1, 'that': 1, 'made': 1, 'lose': 1, 'track': 1, 'time': 1})\n",
      "\n",
      "Task 3: 5 most common words\n",
      "the: 5\n",
      "of: 3\n",
      "in: 2\n",
      "a: 2\n",
      "she: 2\n"
     ]
    }
   ],
   "source": [
    "#Task 4: Modularity\n",
    "\n",
    "# Task 1\n",
    "no_punct = cleaned_text(text)\n",
    "#Cleaning the text (Punctuations)\n",
    "print(f\"Task 1:\\n{no_punct}\")\n",
    "\n",
    "# Task 2\n",
    "freq = frequency_counter(no_punct)\n",
    "#Counting the frequency of the words\n",
    "print(f\"\\nTask 2: Word frequencies\\n{freq}\")\n",
    "\n",
    "# Task 3\n",
    "most_common_words = sorting_and_selecting(text)\n",
    "#Filtering the most common words\n",
    "print(\"\\nTask 3: 5 most common words\")\n",
    "#Printing the 5 most common words using slicing \n",
    "for word, count in most_common_words[:5]:\n",
    "    print(f\"{word}: {count}\")\n",
    "\n"
   ]
  },
  {
   "attachments": {},
   "cell_type": "markdown",
   "id": "011996bc",
   "metadata": {},
   "source": [
    "## Exercise 2\n",
    "### Code Optimization for List Processing\n",
    "\n",
    "You have been given a code that performs operations on a list of numbers for:\n",
    "\n",
    "1. Filter out even numbers.\n",
    "2. Duplicate each number.\n",
    "3. Add all numbers.\n",
    "4. Check if the result is a prime number.\n",
    "\n",
    "The code provided achieves its goal, but it may be inefficient. Your task is to identify and improve the parts of the code to increase its efficiency."
   ]
  },
  {
   "cell_type": "code",
   "execution_count": 101,
   "id": "783d03a0",
   "metadata": {},
   "outputs": [
    {
     "name": "stdout",
     "output_type": "stream",
     "text": [
      "Result: 60, ¿Prime? No\n"
     ]
    }
   ],
   "source": [
    "import math\n",
    "\n",
    "def is_prime(n):\n",
    "    if n <= 1:\n",
    "        return False\n",
    "    for i in range(2, int(math.sqrt(n)) + 1):\n",
    "        if n % i == 0:\n",
    "            return False\n",
    "    return True\n",
    "\n",
    "def process_list(list_):\n",
    "    filtered_list = []\n",
    "    for num in list_:\n",
    "        if num % 2 == 0:\n",
    "            filtered_list.append(num)\n",
    "    \n",
    "    duplicate_list = []\n",
    "    for num in filtered_list:\n",
    "        duplicate_list.append(num * 2)\n",
    "        \n",
    "    sum = 0\n",
    "    for num in duplicate_list:\n",
    "        sum += num\n",
    "\n",
    "    prime = is_prime(sum)\n",
    "    \n",
    "    return sum, prime\n",
    "\n",
    "list_ = [1, 2, 3, 4, 5, 6, 7, 8, 9, 10]\n",
    "result, result_prime = process_list(list_)\n",
    "print(f\"Result: {result}, ¿Prime? {'Yes' if result_prime else 'No'}\")"
   ]
  },
  {
   "cell_type": "markdown",
   "id": "128d564e",
   "metadata": {},
   "source": [
    "Points to optimize:\n",
    "\n",
    "1. **Filter numbers**: The code goes through the original list to filter out even numbers. Consider a more efficient way to filter the list.\n",
    "2. **Duplication**: The list is traversed multiple times. Is there a way to do this more efficiently?\n",
    "3. **Summing**: The numbers in a list are summed through a loop. Python has built-in functions that can optimize this.\n",
    "4. **Function `is_prime`**: While this function is relatively efficient, investigate if there are ways to make it even faster.\n",
    "5. **Modularity**: Consider breaking the code into smaller functions, each focused on a specific task."
   ]
  },
  {
   "cell_type": "code",
   "execution_count": 38,
   "id": "2e2edc4d",
   "metadata": {},
   "outputs": [
    {
     "name": "stdout",
     "output_type": "stream",
     "text": [
      "[2, 4, 6, 8, 10]\n"
     ]
    }
   ],
   "source": [
    "from sympy import isprime \n",
    "import itertools\n",
    "import numpy as np\n",
    "\n",
    "#Task1: Filter number even \n",
    "def filter_even_numbers(num):\n",
    "    #Returning a list of values using \"reverse\" logic and lambda (selecting the \"false\") to sort even numbers\n",
    "    return list(itertools.filterfalse(lambda x: x % 2 != 0, num))\n",
    "\n",
    "print(filter_even_numbers(list_))"
   ]
  },
  {
   "cell_type": "code",
   "execution_count": 26,
   "id": "f2ea8459",
   "metadata": {},
   "outputs": [
    {
     "name": "stdout",
     "output_type": "stream",
     "text": [
      "Task 2:\n",
      "[4, 8, 12, 16, 20]\n"
     ]
    }
   ],
   "source": [
    "#Task2: Duplication\n",
    "def duplicated_list(list_):\n",
    "    #Returning the values * 2 filtering by the reminder (product of %) to get even numbers\n",
    "    return [num * 2 for num in list_ if num % 2 == 0]\n",
    "\n",
    "result = duplicated_list(list_)\n",
    "print(f\"Task 2:\\n{result}\")"
   ]
  },
  {
   "cell_type": "code",
   "execution_count": null,
   "id": "24793f5a",
   "metadata": {},
   "outputs": [
    {
     "name": "stdout",
     "output_type": "stream",
     "text": [
      "55\n"
     ]
    }
   ],
   "source": [
    "#Task3: Summing the numbers\n",
    "def sum_list(n):\n",
    "    #Use of built-in sum function to return the product of the sum of values in \"list_\"\n",
    "    return sum(n)\n",
    "\n",
    "print(sum_list(list_))"
   ]
  },
  {
   "cell_type": "code",
   "execution_count": null,
   "id": "f40e35d6",
   "metadata": {},
   "outputs": [
    {
     "name": "stdout",
     "output_type": "stream",
     "text": [
      "False\n"
     ]
    }
   ],
   "source": [
    "#Task 4: Function is_prime optimization\n",
    "#Use of sympy lib, isprime mod to check if a number is prime\n",
    "def prime_checker(n):\n",
    "    #Return the boolean value of the \"isprime\" function that indicates whether or not the int is prime \n",
    "    return isprime(n)\n",
    "\n",
    "#Storing the previous function \"sum_list\" product in a variable to re-use the logic \n",
    "#If needed, it can be use by passing any number as the argument of \"prime_checker\" function \n",
    "total = sum_list(list_) \n",
    "print(prime_checker(total))\n"
   ]
  },
  {
   "cell_type": "code",
   "execution_count": 106,
   "id": "c526018b",
   "metadata": {},
   "outputs": [
    {
     "name": "stdout",
     "output_type": "stream",
     "text": [
      "Task 1:\n",
      "[2, 4, 6, 8, 10]\n",
      "\n",
      "Task 2:\n",
      "[4, 8, 12, 16, 20]\n",
      "\n",
      "Task 3:\n",
      "55\n",
      "\n",
      "Task 4:\n",
      "The result of the sum values (55) is prime = False\n",
      "The random generated number (28) is prime = False\n"
     ]
    }
   ],
   "source": [
    "#Task 5: Modularity\n",
    "even_numbers = filter_even_numbers(list_)\n",
    "#Filtering even numbers from list_\n",
    "print(F\"Task 1:\\n{even_numbers}\")\n",
    "\n",
    "# Task 2\n",
    "doubled_evens = duplicated_list(list_)\n",
    "#Duplicates the list_ even numbers and multiply by 2 \n",
    "print(F\"\\nTask 2:\\n{doubled_evens}\")\n",
    "\n",
    "# Task 3\n",
    "total_sum = sum_list(list_)\n",
    "#Sums the list_ numbers and printing the result \n",
    "print(F\"\\nTask 3:\\n{total_sum}\")\n",
    "\n",
    "# Task 4\n",
    "#Checking for prime numbers re-using the prime_checker function that uses \"isprime\" and passing the total_sum result as parameter\n",
    "total_sum_prime = prime_checker(total_sum) \n",
    "\n",
    "#Generating random number (to show contrast on how the function works) and storing it for later use \n",
    "random_num = np.random.randint(0, 100)\n",
    "\n",
    "#Printing the confirmation about the total_sum value being prime or not\n",
    "print(f\"\\nTask 4:\\nThe result of the sum values ({total_sum}) is prime = {total_sum_prime}\")\n",
    "#Printing the confirmation about the random_num being prime or not for contrast \n",
    "print(f\"The random generated number ({random_num}) is prime = {prime_checker(random_num)}\")"
   ]
  },
  {
   "attachments": {},
   "cell_type": "markdown",
   "id": "1af70806",
   "metadata": {},
   "source": [
    "Both exercises will help you improve your code performance optimization skills and give you a better understanding of how different data structures and programming techniques can affect the efficiency of your code."
   ]
  }
 ],
 "metadata": {
  "kernelspec": {
   "display_name": "Python 3",
   "language": "python",
   "name": "python3"
  },
  "language_info": {
   "codemirror_mode": {
    "name": "ipython",
    "version": 3
   },
   "file_extension": ".py",
   "mimetype": "text/x-python",
   "name": "python",
   "nbconvert_exporter": "python",
   "pygments_lexer": "ipython3",
   "version": "3.11.4"
  }
 },
 "nbformat": 4,
 "nbformat_minor": 5
}
